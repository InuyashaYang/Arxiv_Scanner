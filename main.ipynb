{
 "cells": [
  {
   "cell_type": "code",
   "execution_count": null,
   "metadata": {},
   "outputs": [
    {
     "name": "stderr",
     "output_type": "stream",
     "text": [
      "c:\\Users\\Inuyasha\\AppData\\Local\\Programs\\Python\\Python312\\Lib\\site-packages\\tqdm\\auto.py:21: TqdmWarning: IProgress not found. Please update jupyter and ipywidgets. See https://ipywidgets.readthedocs.io/en/stable/user_install.html\n",
      "  from .autonotebook import tqdm as notebook_tqdm\n"
     ]
    }
   ],
   "source": [
    "from Arxiv_Scanner.Arxiv_API import *\n",
    "from Arxiv_Scanner.PDF_Processor import *\n",
    "from Arxiv_Scanner.Reviewer import *\n",
    "from JoinAgent import *\n",
    "\n",
    "llm = MultiLLM('chatgpt-4o-latest')\n",
    "\n",
    "json_path = r'data\\downloads\\original_essay.json'\n",
    "output_path = r'data\\downloads\\result.json'\n",
    "\n",
    "downloader = ArxivDownloader(download_dir=\"data/downloads\", max_results=5, log_file=\"log/download_log.log\")\n",
    "downloader.search_and_download(\"machine learning\")\n",
    "processor=PDFProcessor()\n",
    "processor.process_directory_to_json(pdf_dir='data/downloads',output_json_path=json_path)\n",
    "# 初始化Reviewer\n",
    "reviewer = Reviewer(llm=llm)\n",
    "\n",
    "# 加载数据\n",
    "data = reviewer.load_json_data(json_path)\n",
    "\n",
    "# 初始化结果存储\n",
    "review_reports = {}\n",
    "\n",
    "# 遍历每个文件并处理\n",
    "for filename, file_data in data.items():\n",
    "    print(f\"Processing file: {filename}\")\n",
    "    review = reviewer.process_file(file_data)\n",
    "    review_reports[filename] = review\n",
    "\n",
    "# 保存评审报告\n",
    "with open(output_path, 'w', encoding='utf-8') as f:\n",
    "    json.dump(review_reports, f, ensure_ascii=False, indent=2)\n",
    "\n",
    "print(f\"评审报告已保存至 {output_path}\")\n",
    "\n"
   ]
  }
 ],
 "metadata": {
  "kernelspec": {
   "display_name": "Python 3",
   "language": "python",
   "name": "python3"
  },
  "language_info": {
   "codemirror_mode": {
    "name": "ipython",
    "version": 3
   },
   "file_extension": ".py",
   "mimetype": "text/x-python",
   "name": "python",
   "nbconvert_exporter": "python",
   "pygments_lexer": "ipython3",
   "version": "3.12.7"
  }
 },
 "nbformat": 4,
 "nbformat_minor": 2
}
